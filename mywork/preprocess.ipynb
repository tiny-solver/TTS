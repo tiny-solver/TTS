{
 "cells": [
  {
   "cell_type": "code",
   "execution_count": null,
   "metadata": {},
   "outputs": [],
   "source": [
    "# !sudo apt update && sudo apt install ffmpeg\n",
    "# !pip install -q openai-whisper tiktoken"
   ]
  },
  {
   "cell_type": "code",
   "execution_count": null,
   "metadata": {},
   "outputs": [],
   "source": [
    "\"\"\"## Extract Audio from Local MKV File\"\"\"\n",
    "\n",
    "# Replace 'your_local_video.mkv' with the path to your local MKV file\n",
    "input_video_path = 'bedoers_dataset.mkv'\n",
    "output_audio_path = 'bedoers.mp4'\n",
    "\n",
    "# Using FFmpeg to extract audio and convert it to MP4 format\n",
    "!ffmpeg -y -i {input_video_path} -c:a aac -b:a 192k {output_audio_path} -hide_banner -loglevel error"
   ]
  },
  {
   "cell_type": "code",
   "execution_count": 6,
   "metadata": {},
   "outputs": [
    {
     "name": "stdout",
     "output_type": "stream",
     "text": [
      "[0.00 --> 4.00]  엄마 그런데 뭐 하고 있으세요?\n",
      "[4.00 --> 6.00]  지금은...\n",
      "[6.00 --> 8.00]  아 지금...\n",
      "[8.00 --> 14.00]  파란색 포도주스 먹고 있는데\n",
      "[14.00 --> 19.00]  지금 엄마 슈크림방 좋아하세요?\n",
      "[23.00 --> 27.00]  그런데 엄마 포도주스 좋아하세요?\n",
      "[27.00 --> 32.00]  그리고 엄마 바나나도 좋아하시고\n",
      "[32.00 --> 36.00]  삼겹세도 좋아하세요?\n",
      "[37.00 --> 43.00]  그런데 엄마 지금 엄마\n",
      "[43.00 --> 49.00]  자는 것보다는 나랑 같이 노는 게 더 재밌고\n",
      "[49.00 --> 54.00]  답은 힘들죠. 다음은 제가 피자 만들어 드릴게요.\n",
      "[54.00 --> 57.00]  그리고 다음부터 우리 같이 인형놀이하고\n",
      "[57.00 --> 60.00]  석금 놀이하고 블록 놀이 할까요?\n",
      "[62.00 --> 64.00]  엄마!\n",
      "[64.00 --> 68.00]  사랑해요. 그리고 지금 뭐 하고 있어요?\n",
      "[68.00 --> 71.00]  저녁밥은 같이 먹어요.\n"
     ]
    }
   ],
   "source": [
    "\"\"\"## Transcribe\"\"\"\n",
    "\n",
    "import whisper\n",
    "\n",
    "def transcribe(input_audio_path):\n",
    "    model = whisper.load_model(\"small\")\n",
    "    result = model.transcribe(input_audio_path)\n",
    "    return result\n",
    "# model = whisper.load_model(\"small\")\n",
    "\n",
    "# result = model.transcribe(output_audio_path)\n",
    "\n",
    "output_audio_path = 'input_ys.mp3'\n",
    "result = transcribe(output_audio_path)\n",
    "result[\"text\"][:50]\n",
    "result[\"segments\"][:3]\n",
    "len(result[\"text\"])\n",
    "\n",
    "for r in result['segments']:\n",
    "    print(f'[{r[\"start\"]:.2f} --> {r[\"end\"]:.2f}] {r[\"text\"]}')\n",
    "\n",
    "!mkdir wavs_ys\n",
    "for i, r in enumerate(result['segments']):\n",
    "    !ffmpeg -y -i {output_audio_path} -ss {r[\"start\"]} -to {r[\"end\"]} -hide_banner -loglevel error wavs_ys/audio{i+1}.wav"
   ]
  },
  {
   "cell_type": "code",
   "execution_count": 9,
   "metadata": {},
   "outputs": [],
   "source": [
    "from IPython.display import Audio\n",
    "\n",
    "Audio(\"yoonseul/wavs/audio1.wav\")\n",
    "\n",
    "with open(\"metadata_ys.txt\", \"w\", encoding=\"utf-8\") as f:\n",
    "    for i, r in enumerate(result['segments']):\n",
    "        f.write(f\"audio{i+1}|{r['text'].strip()}|{r['text'].strip()}\\n\")\n"
   ]
  }
 ],
 "metadata": {
  "kernelspec": {
   "display_name": "tts",
   "language": "python",
   "name": "python3"
  },
  "language_info": {
   "codemirror_mode": {
    "name": "ipython",
    "version": 3
   },
   "file_extension": ".py",
   "mimetype": "text/x-python",
   "name": "python",
   "nbconvert_exporter": "python",
   "pygments_lexer": "ipython3",
   "version": "3.10.14"
  }
 },
 "nbformat": 4,
 "nbformat_minor": 2
}
